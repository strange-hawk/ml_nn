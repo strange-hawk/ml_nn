{
  "nbformat": 4,
  "nbformat_minor": 0,
  "metadata": {
    "colab": {
      "name": "Untitled11.ipynb",
      "provenance": [],
      "collapsed_sections": [],
      "toc_visible": true,
      "authorship_tag": "ABX9TyMKThOyCxYTy1qTNuqLhFS0",
      "include_colab_link": true
    },
    "kernelspec": {
      "name": "python3",
      "display_name": "Python 3"
    },
    "accelerator": "TPU"
  },
  "cells": [
    {
      "cell_type": "markdown",
      "metadata": {
        "id": "view-in-github",
        "colab_type": "text"
      },
      "source": [
        "<a href=\"https://colab.research.google.com/github/strange-hawk/ml_nn/blob/master/sentiment_analysis_tf.ipynb\" target=\"_parent\"><img src=\"https://colab.research.google.com/assets/colab-badge.svg\" alt=\"Open In Colab\"/></a>"
      ]
    },
    {
      "cell_type": "code",
      "metadata": {
        "id": "NecBr1hQm6Y9",
        "colab_type": "code",
        "colab": {
          "base_uri": "https://localhost:8080/",
          "height": 102
        },
        "outputId": "34a64490-f43c-4a19-ae88-82f95b2fb5a6"
      },
      "source": [
        "!git clone https://github.com/udacity/deep-learning.git"
      ],
      "execution_count": 2,
      "outputs": [
        {
          "output_type": "stream",
          "text": [
            "Cloning into 'deep-learning'...\n",
            "remote: Enumerating objects: 1450, done.\u001b[K\n",
            "remote: Total 1450 (delta 0), reused 0 (delta 0), pack-reused 1450\u001b[K\n",
            "Receiving objects: 100% (1450/1450), 47.19 MiB | 22.00 MiB/s, done.\n",
            "Resolving deltas: 100% (608/608), done.\n"
          ],
          "name": "stdout"
        }
      ]
    },
    {
      "cell_type": "code",
      "metadata": {
        "id": "1QsAjajNnWY9",
        "colab_type": "code",
        "colab": {
          "base_uri": "https://localhost:8080/",
          "height": 63
        },
        "outputId": "1e616622-6159-4abd-9a2d-cfa97b38c991"
      },
      "source": [
        "import tensorflow as tf"
      ],
      "execution_count": 2,
      "outputs": [
        {
          "output_type": "display_data",
          "data": {
            "text/html": [
              "<p style=\"color: red;\">\n",
              "The default version of TensorFlow in Colab will soon switch to TensorFlow 2.x.<br>\n",
              "We recommend you <a href=\"https://www.tensorflow.org/guide/migrate\" target=\"_blank\">upgrade</a> now \n",
              "or ensure your notebook will continue to use TensorFlow 1.x via the <code>%tensorflow_version 1.x</code> magic:\n",
              "<a href=\"https://colab.research.google.com/notebooks/tensorflow_version.ipynb\" target=\"_blank\">more info</a>.</p>\n"
            ],
            "text/plain": [
              "<IPython.core.display.HTML object>"
            ]
          },
          "metadata": {
            "tags": []
          }
        }
      ]
    },
    {
      "cell_type": "code",
      "metadata": {
        "id": "I6QJUpIRnlTp",
        "colab_type": "code",
        "colab": {}
      },
      "source": [
        "!pip uninstall tensorflow"
      ],
      "execution_count": 0,
      "outputs": []
    },
    {
      "cell_type": "code",
      "metadata": {
        "id": "2Jlv_gyCnn-f",
        "colab_type": "code",
        "colab": {}
      },
      "source": [
        "!pip install tensorflow"
      ],
      "execution_count": 0,
      "outputs": []
    },
    {
      "cell_type": "code",
      "metadata": {
        "id": "2338T_utocWF",
        "colab_type": "code",
        "colab": {
          "base_uri": "https://localhost:8080/",
          "height": 85
        },
        "outputId": "8b02c42b-ef28-4866-f47f-d7ecf2e25531"
      },
      "source": [
        "!pip install TFLearn"
      ],
      "execution_count": 1,
      "outputs": [
        {
          "output_type": "stream",
          "text": [
            "Requirement already satisfied: TFLearn in /usr/local/lib/python3.6/dist-packages (0.3.2)\n",
            "Requirement already satisfied: six in /usr/local/lib/python3.6/dist-packages (from TFLearn) (1.12.0)\n",
            "Requirement already satisfied: Pillow in /usr/local/lib/python3.6/dist-packages (from TFLearn) (6.2.2)\n",
            "Requirement already satisfied: numpy in /usr/local/lib/python3.6/dist-packages (from TFLearn) (1.17.5)\n"
          ],
          "name": "stdout"
        }
      ]
    },
    {
      "cell_type": "code",
      "metadata": {
        "id": "jakt4acXo0gi",
        "colab_type": "code",
        "colab": {}
      },
      "source": [
        "import pandas as pd"
      ],
      "execution_count": 0,
      "outputs": []
    },
    {
      "cell_type": "code",
      "metadata": {
        "id": "9MXYG7c2rfmk",
        "colab_type": "code",
        "colab": {}
      },
      "source": [
        "reviews = pd.read_csv('/content/deep-learning/sentiment-network/reviews.txt')"
      ],
      "execution_count": 0,
      "outputs": []
    },
    {
      "cell_type": "code",
      "metadata": {
        "id": "V-_79yPwrzFj",
        "colab_type": "code",
        "colab": {}
      },
      "source": [
        "labels = pd.read_csv('/content/deep-learning/sentiment-network/labels.txt')"
      ],
      "execution_count": 0,
      "outputs": []
    },
    {
      "cell_type": "code",
      "metadata": {
        "id": "X5kRX9vGsEzG",
        "colab_type": "code",
        "colab": {
          "base_uri": "https://localhost:8080/",
          "height": 71
        },
        "outputId": "26fea71a-4a4b-460c-bcf5-d731cf7a7b5d"
      },
      "source": [
        "reviews.iloc[2]"
      ],
      "execution_count": 14,
      "outputs": [
        {
          "output_type": "execute_result",
          "data": {
            "text/plain": [
              "bromwell high is a cartoon comedy . it ran at the same time as some other programs about school life  such as  teachers  . my   years in the teaching profession lead me to believe that bromwell high  s satire is much closer to reality than is  teachers  . the scramble to survive financially  the insightful students who can see right through their pathetic teachers  pomp  the pettiness of the whole situation  all remind me of the schools i knew and their students . when i saw the episode in which a student repeatedly tried to burn down the school  i immediately recalled . . . . . . . . . at . . . . . . . . . . high . a classic line inspector i  m here to sack one of your teachers . student welcome to bromwell high . i expect that many adults of my age think that bromwell high is far fetched . what a pity that it isn  t       airport    starts as a brand new luxury    pla...\n",
              "Name: 2, dtype: object"
            ]
          },
          "metadata": {
            "tags": []
          },
          "execution_count": 14
        }
      ]
    },
    {
      "cell_type": "code",
      "metadata": {
        "id": "uxp2UhBCsLsq",
        "colab_type": "code",
        "colab": {}
      },
      "source": [
        "from collections import Counter\n",
        "total_counts = Counter()\n",
        "for _,rows in reviews.iterrows():\n",
        "  total_counts.update(rows[0].split(' '))"
      ],
      "execution_count": 0,
      "outputs": []
    },
    {
      "cell_type": "code",
      "metadata": {
        "id": "-IaiuH8KuAXC",
        "colab_type": "code",
        "colab": {}
      },
      "source": [
        "vocab = sorted(total_counts,key=total_counts.get,reverse=True)[:10000]"
      ],
      "execution_count": 0,
      "outputs": []
    },
    {
      "cell_type": "code",
      "metadata": {
        "id": "oXWbC49SwOr7",
        "colab_type": "code",
        "colab": {
          "base_uri": "https://localhost:8080/",
          "height": 34
        },
        "outputId": "212691a2-097d-465e-e228-e9e3123c2132"
      },
      "source": [
        "print(vocab[len(vocab)-1],total_counts[vocab[len(vocab)-1]])"
      ],
      "execution_count": 35,
      "outputs": [
        {
          "output_type": "stream",
          "text": [
            "fulfilled 30\n"
          ],
          "name": "stdout"
        }
      ]
    },
    {
      "cell_type": "code",
      "metadata": {
        "id": "_DXF1YE-wOqb",
        "colab_type": "code",
        "colab": {}
      },
      "source": [
        "word2index={}\n",
        "for i,j in enumerate(vocab):\n",
        "  word2index[j]=i"
      ],
      "execution_count": 0,
      "outputs": []
    },
    {
      "cell_type": "code",
      "metadata": {
        "id": "kpNa7KGRwOne",
        "colab_type": "code",
        "colab": {}
      },
      "source": [
        "import numpy as np\n",
        "def text2vector(review):\n",
        "  review = str(review)\n",
        "  inputt = np.zeros(len(vocab),dtype=np.int_)\n",
        "  c=Counter()\n",
        "  c.update(review.split(' '))\n",
        "  for k,v in c.items():\n",
        "    t = word2index.get(k,None)\n",
        "    if t==None:\n",
        "      continue\n",
        "    else:\n",
        "      inputt[t]=v\n",
        "  return np.array(inputt)\n",
        "  "
      ],
      "execution_count": 0,
      "outputs": []
    },
    {
      "cell_type": "code",
      "metadata": {
        "id": "OI2I3xfgwOki",
        "colab_type": "code",
        "colab": {
          "base_uri": "https://localhost:8080/",
          "height": 68
        },
        "outputId": "1bcd8af9-83c1-4c4e-970c-e99e218882d6"
      },
      "source": [
        "text2vector('The tea is for a party to celebrate the movie so she has no time for a cake')[:65]\n",
        "# type(reviews.iloc[0])"
      ],
      "execution_count": 64,
      "outputs": [
        {
          "output_type": "execute_result",
          "data": {
            "text/plain": [
              "array([0, 1, 0, 0, 2, 0, 1, 1, 0, 0, 0, 0, 0, 0, 0, 0, 0, 2, 0, 1, 0, 0,\n",
              "       0, 0, 0, 0, 0, 0, 0, 0, 0, 0, 0, 0, 0, 0, 0, 0, 1, 0, 0, 0, 0, 0,\n",
              "       0, 0, 0, 0, 1, 0, 0, 0, 0, 0, 1, 0, 0, 0, 1, 1, 0, 0, 0, 0, 0])"
            ]
          },
          "metadata": {
            "tags": []
          },
          "execution_count": 64
        }
      ]
    },
    {
      "cell_type": "code",
      "metadata": {
        "id": "g1DtcG7iwOhk",
        "colab_type": "code",
        "colab": {}
      },
      "source": [
        "word_vector = np.zeros((len(reviews),len(vocab)))\n",
        "for i in range(len(reviews)):\n",
        "  word_vector[i]=text2vector(reviews.iloc[i][0])"
      ],
      "execution_count": 0,
      "outputs": []
    },
    {
      "cell_type": "code",
      "metadata": {
        "id": "EobSi6UZwOfe",
        "colab_type": "code",
        "colab": {}
      },
      "source": [
        "Y=(labels=='positive').astype('int')\n",
        "Y.head()"
      ],
      "execution_count": 0,
      "outputs": []
    },
    {
      "cell_type": "code",
      "metadata": {
        "id": "PUI9BntywOdz",
        "colab_type": "code",
        "colab": {
          "base_uri": "https://localhost:8080/",
          "height": 287
        },
        "outputId": "b0024988-b843-4284-f484-c756b85a7437"
      },
      "source": [
        "import tflearn\n",
        "from tflearn.data_utils import to_categorical\n",
        "\n",
        "\n",
        "shuffle = np.arange(len(labels))\n",
        "np.random.shuffle(shuffle)\n",
        "records=len(labels)\n",
        "test_fraction=0.9\n",
        "\n",
        "train_split, test_split = shuffle[:int(records*test_fraction)], shuffle[int(records*test_fraction):]\n",
        "trainX, trainY = word_vector[train_split,:], to_categorical(Y.values[train_split, 0], 2)\n",
        "testX, testY = word_vector[test_split,:], to_categorical(Y.values[test_split, 0], 2)"
      ],
      "execution_count": 80,
      "outputs": [
        {
          "output_type": "display_data",
          "data": {
            "text/html": [
              "<p style=\"color: red;\">\n",
              "The default version of TensorFlow in Colab will soon switch to TensorFlow 2.x.<br>\n",
              "We recommend you <a href=\"https://www.tensorflow.org/guide/migrate\" target=\"_blank\">upgrade</a> now \n",
              "or ensure your notebook will continue to use TensorFlow 1.x via the <code>%tensorflow_version 1.x</code> magic:\n",
              "<a href=\"https://colab.research.google.com/notebooks/tensorflow_version.ipynb\" target=\"_blank\">more info</a>.</p>\n"
            ],
            "text/plain": [
              "<IPython.core.display.HTML object>"
            ]
          },
          "metadata": {
            "tags": []
          }
        },
        {
          "output_type": "stream",
          "text": [
            "WARNING:tensorflow:From /usr/local/lib/python3.6/dist-packages/tflearn/helpers/summarizer.py:9: The name tf.summary.merge is deprecated. Please use tf.compat.v1.summary.merge instead.\n",
            "\n",
            "WARNING:tensorflow:From /usr/local/lib/python3.6/dist-packages/tflearn/helpers/trainer.py:25: The name tf.summary.FileWriter is deprecated. Please use tf.compat.v1.summary.FileWriter instead.\n",
            "\n",
            "WARNING:tensorflow:From /usr/local/lib/python3.6/dist-packages/tflearn/collections.py:13: The name tf.GraphKeys is deprecated. Please use tf.compat.v1.GraphKeys instead.\n",
            "\n",
            "WARNING:tensorflow:From /usr/local/lib/python3.6/dist-packages/tflearn/config.py:123: The name tf.get_collection is deprecated. Please use tf.compat.v1.get_collection instead.\n",
            "\n",
            "WARNING:tensorflow:From /usr/local/lib/python3.6/dist-packages/tflearn/config.py:129: The name tf.add_to_collection is deprecated. Please use tf.compat.v1.add_to_collection instead.\n",
            "\n",
            "WARNING:tensorflow:From /usr/local/lib/python3.6/dist-packages/tflearn/config.py:131: The name tf.assign is deprecated. Please use tf.compat.v1.assign instead.\n",
            "\n"
          ],
          "name": "stdout"
        }
      ]
    },
    {
      "cell_type": "code",
      "metadata": {
        "id": "_4Ta6FinwObe",
        "colab_type": "code",
        "colab": {
          "base_uri": "https://localhost:8080/",
          "height": 34
        },
        "outputId": "de458304-68f7-4554-8f36-3d58e9f4c2bc"
      },
      "source": [
        "len(shuffle)"
      ],
      "execution_count": 83,
      "outputs": [
        {
          "output_type": "execute_result",
          "data": {
            "text/plain": [
              "24999"
            ]
          },
          "metadata": {
            "tags": []
          },
          "execution_count": 83
        }
      ]
    },
    {
      "cell_type": "code",
      "metadata": {
        "id": "SetscItu5v2r",
        "colab_type": "code",
        "colab": {}
      },
      "source": [
        "import tensorflow as tf\n"
      ],
      "execution_count": 0,
      "outputs": []
    },
    {
      "cell_type": "code",
      "metadata": {
        "id": "KJlCLwEjwOaQ",
        "colab_type": "code",
        "colab": {}
      },
      "source": [
        "# network building\n",
        "\n",
        "def build_model():\n",
        "  tf.reset_default_graph()\n",
        "  net = tflearn.input_data([None,10000])\n",
        "  # hidden\n",
        "  net = tflearn.fully_connected(net,200,activation='ReLU')\n",
        "  net = tflearn.fully_connected(net,25,activation='ReLU')\n",
        "  # output\n",
        "  net = tflearn.fully_connected(net,2,activation='softmax')\n",
        "  net = tflearn.regression(net,optimizer='sgd',learning_rate=0.1,loss='categorical_crossentropy')\n",
        "  model = tflearn.DNN(net)\n",
        "  return model"
      ],
      "execution_count": 0,
      "outputs": []
    },
    {
      "cell_type": "code",
      "metadata": {
        "id": "xs_rClStwOXo",
        "colab_type": "code",
        "colab": {}
      },
      "source": [
        "model = build_model()"
      ],
      "execution_count": 0,
      "outputs": []
    },
    {
      "cell_type": "code",
      "metadata": {
        "id": "6-tYREo_wOWD",
        "colab_type": "code",
        "colab": {
          "base_uri": "https://localhost:8080/",
          "height": 102
        },
        "outputId": "22724c1e-eb3b-4b87-ceda-9b0a61bf3405"
      },
      "source": [
        "model.fit(trainX,trainY,n_epoch=100,show_metric=True,batch_size=128,validation_batch_size=0.1)"
      ],
      "execution_count": 92,
      "outputs": [
        {
          "output_type": "stream",
          "text": [
            "Training Step: 17599  | total loss: \u001b[1m\u001b[32m0.27892\u001b[0m\u001b[0m | time: 6.036s\n",
            "| SGD | epoch: 100 | loss: 0.27892 - acc: 0.8679 -- iter: 22400/22499\n",
            "Training Step: 17600  | total loss: \u001b[1m\u001b[32m0.28338\u001b[0m\u001b[0m | time: 6.070s\n",
            "| SGD | epoch: 100 | loss: 0.28338 - acc: 0.8709 -- iter: 22499/22499\n",
            "--\n"
          ],
          "name": "stdout"
        }
      ]
    },
    {
      "cell_type": "code",
      "metadata": {
        "id": "xRmPaxWawOVC",
        "colab_type": "code",
        "colab": {
          "base_uri": "https://localhost:8080/",
          "height": 34
        },
        "outputId": "c62013a3-4419-44b2-f8e1-f632aaa76f7c"
      },
      "source": [
        "predictions = (np.array(model.predict(testX))[:,0]>0.5).astype('int')\n",
        "test_accuracy = np.mean(predictions==testY[:,0],axis=0)\n",
        "print(\"test_accuracy\",test_accuracy)"
      ],
      "execution_count": 93,
      "outputs": [
        {
          "output_type": "stream",
          "text": [
            "test_accuracy 0.8488\n"
          ],
          "name": "stdout"
        }
      ]
    },
    {
      "cell_type": "code",
      "metadata": {
        "id": "ufXynao3wOTo",
        "colab_type": "code",
        "colab": {}
      },
      "source": [
        "def test_sentence(review):\n",
        "  positive_prob = model.predict([text2vector(review)])\n",
        "  # print(positive_prob)\n",
        "  if positive_prob[0][0]>0.5:\n",
        "    print('POSITIVE',positive_prob[0][0])\n",
        "  else:\n",
        "    print('NEGATIVE',positive_prob[0][1])"
      ],
      "execution_count": 0,
      "outputs": []
    },
    {
      "cell_type": "code",
      "metadata": {
        "id": "ZevzKx1awOP5",
        "colab_type": "code",
        "colab": {
          "base_uri": "https://localhost:8080/",
          "height": 34
        },
        "outputId": "676c82c6-d86c-412f-e043-079cb0865cc7"
      },
      "source": [
        "test_sentence(\"It's amazing anyone could be talented enough to make something this spectacularly awful\")"
      ],
      "execution_count": 106,
      "outputs": [
        {
          "output_type": "stream",
          "text": [
            "POSITIVE 0.998287\n"
          ],
          "name": "stdout"
        }
      ]
    }
  ]
}