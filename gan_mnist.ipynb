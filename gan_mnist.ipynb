{
  "nbformat": 4,
  "nbformat_minor": 0,
  "metadata": {
    "colab": {
      "name": "gan_mnist.ipynb",
      "provenance": [],
      "collapsed_sections": [],
      "authorship_tag": "ABX9TyNbiRGoyis+lQCJaeujA0oG",
      "include_colab_link": true
    },
    "kernelspec": {
      "name": "python3",
      "display_name": "Python 3"
    },
    "accelerator": "GPU"
  },
  "cells": [
    {
      "cell_type": "markdown",
      "metadata": {
        "id": "view-in-github",
        "colab_type": "text"
      },
      "source": [
        "<a href=\"https://colab.research.google.com/github/strange-hawk/ml_nn/blob/master/gan_mnist.ipynb\" target=\"_parent\"><img src=\"https://colab.research.google.com/assets/colab-badge.svg\" alt=\"Open In Colab\"/></a>"
      ]
    },
    {
      "cell_type": "code",
      "metadata": {
        "id": "TVJfGd1kxElM",
        "colab_type": "code",
        "colab": {
          "base_uri": "https://localhost:8080/",
          "height": 85
        },
        "outputId": "cf884324-ed0d-4a06-d86d-1114849e50bf"
      },
      "source": [
        "%tensorflow_version"
      ],
      "execution_count": 4,
      "outputs": [
        {
          "output_type": "stream",
          "text": [
            "Currently selected TF version: 2.x\n",
            "Available versions:\n",
            "* 1.x\n",
            "* 2.x\n"
          ],
          "name": "stdout"
        }
      ]
    },
    {
      "cell_type": "code",
      "metadata": {
        "id": "KGsBtD7NwKhH",
        "colab_type": "code",
        "colab": {}
      },
      "source": [
        "import pandas as pd\n",
        "import matplotlib.pyplot as plt\n",
        "import numpy as np"
      ],
      "execution_count": 0,
      "outputs": []
    },
    {
      "cell_type": "code",
      "metadata": {
        "id": "7sjxkrlbxCvb",
        "colab_type": "code",
        "colab": {}
      },
      "source": [
        "from tensorflow.keras.datasets import mnist"
      ],
      "execution_count": 0,
      "outputs": []
    },
    {
      "cell_type": "code",
      "metadata": {
        "id": "-zGK-khgxqJJ",
        "colab_type": "code",
        "colab": {
          "base_uri": "https://localhost:8080/",
          "height": 51
        },
        "outputId": "277207a3-956e-4a14-acc0-28b37d5fe1bb"
      },
      "source": [
        "(x_train,y_train),(x_test,y_test) = mnist.load_data()"
      ],
      "execution_count": 3,
      "outputs": [
        {
          "output_type": "stream",
          "text": [
            "Downloading data from https://storage.googleapis.com/tensorflow/tf-keras-datasets/mnist.npz\n",
            "11493376/11490434 [==============================] - 0s 0us/step\n"
          ],
          "name": "stdout"
        }
      ]
    },
    {
      "cell_type": "code",
      "metadata": {
        "id": "lL7hmHsYxr4t",
        "colab_type": "code",
        "colab": {}
      },
      "source": [
        "only_zeros = x_train[y_train==0] "
      ],
      "execution_count": 0,
      "outputs": []
    },
    {
      "cell_type": "code",
      "metadata": {
        "id": "jFJ12lIZxr3T",
        "colab_type": "code",
        "colab": {
          "base_uri": "https://localhost:8080/",
          "height": 282
        },
        "outputId": "e8f5e6d7-18ca-4783-dffc-60511c0c2307"
      },
      "source": [
        "plt.imshow(only_zeros[19])"
      ],
      "execution_count": 74,
      "outputs": [
        {
          "output_type": "execute_result",
          "data": {
            "text/plain": [
              "<matplotlib.image.AxesImage at 0x7f4171c186d8>"
            ]
          },
          "metadata": {
            "tags": []
          },
          "execution_count": 74
        },
        {
          "output_type": "display_data",
          "data": {
            "image/png": "[encoded data removed]",
            "text/plain": [
              "<Figure size 432x288 with 1 Axes>"
            ]
          },
          "metadata": {
            "tags": [],
            "needs_background": "light"
          }
        }
      ]
    },
    {
      "cell_type": "code",
      "metadata": {
        "id": "PtilsgpYxr0a",
        "colab_type": "code",
        "colab": {}
      },
      "source": [
        "import tensorflow as tf\n",
        "from tensorflow.keras.models import Sequential\n",
        "from tensorflow.keras.layers import Dense,Flatten, Reshape"
      ],
      "execution_count": 0,
      "outputs": []
    },
    {
      "cell_type": "code",
      "metadata": {
        "id": "3_O0eCRPxrxw",
        "colab_type": "code",
        "colab": {}
      },
      "source": [
        "descriminator = Sequential()\n",
        "descriminator.add(Flatten(input_shape=[28,28]))\n",
        "descriminator.add(Dense(150,activation = 'relu'))\n",
        "descriminator.add(Dense(100,activation = 'relu'))\n",
        "descriminator.add(Dense(1,activation='sigmoid'))\n",
        "\n",
        "descriminator.compile(loss='binary_crossentropy',optimizer='adam')"
      ],
      "execution_count": 0,
      "outputs": []
    },
    {
      "cell_type": "code",
      "metadata": {
        "id": "WWq2rXpxxrvG",
        "colab_type": "code",
        "colab": {}
      },
      "source": [
        "coding_size = 100\n",
        "# 100 --> 150 --> 784\n",
        "\n",
        "generator = Sequential()\n",
        "generator.add(Dense(100,activation='relu',input_shape=[coding_size]))\n",
        "generator.add(Dense(150,activation='relu'))\n",
        "generator.add(Dense(784,activation='relu'))\n",
        "generator.add(Reshape([28,28]))"
      ],
      "execution_count": 0,
      "outputs": []
    },
    {
      "cell_type": "code",
      "metadata": {
        "id": "d-ZXhKc2xrtU",
        "colab_type": "code",
        "colab": {}
      },
      "source": [
        "GAN = Sequential([generator,descriminator])"
      ],
      "execution_count": 0,
      "outputs": []
    },
    {
      "cell_type": "code",
      "metadata": {
        "id": "fUhuOcjDxrqW",
        "colab_type": "code",
        "colab": {}
      },
      "source": [
        "descriminator.trainable=False"
      ],
      "execution_count": 0,
      "outputs": []
    },
    {
      "cell_type": "code",
      "metadata": {
        "id": "ukG1sOZHxrnr",
        "colab_type": "code",
        "colab": {}
      },
      "source": [
        "GAN.compile(loss='binary_crossentropy',optimizer='adam')"
      ],
      "execution_count": 0,
      "outputs": []
    },
    {
      "cell_type": "code",
      "metadata": {
        "id": "6LFrxLljxrmE",
        "colab_type": "code",
        "colab": {}
      },
      "source": [
        "batch_size=32"
      ],
      "execution_count": 0,
      "outputs": []
    },
    {
      "cell_type": "code",
      "metadata": {
        "id": "O6myCDdFxrjB",
        "colab_type": "code",
        "colab": {}
      },
      "source": [
        "my_data=only_zeros"
      ],
      "execution_count": 0,
      "outputs": []
    },
    {
      "cell_type": "code",
      "metadata": {
        "id": "47zAHfQtxrh3",
        "colab_type": "code",
        "colab": {}
      },
      "source": [
        "dataset = tf.data.Dataset.from_tensor_slices(my_data).shuffle(buffer_size=1000)"
      ],
      "execution_count": 0,
      "outputs": []
    },
    {
      "cell_type": "code",
      "metadata": {
        "id": "WjVmCmP8xrez",
        "colab_type": "code",
        "colab": {}
      },
      "source": [
        "dataset = dataset.batch(batch_size,drop_remainder=True).prefetch(1)"
      ],
      "execution_count": 0,
      "outputs": []
    },
    {
      "cell_type": "code",
      "metadata": {
        "id": "MNNKgT4Uxrbt",
        "colab_type": "code",
        "colab": {}
      },
      "source": [
        "epochs=15"
      ],
      "execution_count": 0,
      "outputs": []
    },
    {
      "cell_type": "code",
      "metadata": {
        "id": "fE8UGbzgxrSp",
        "colab_type": "code",
        "colab": {
          "base_uri": "https://localhost:8080/",
          "height": 85
        },
        "outputId": "295801fc-8f18-4611-fca9-de74f0f52009"
      },
      "source": [
        "GAN.layers[0].layers"
      ],
      "execution_count": 16,
      "outputs": [
        {
          "output_type": "execute_result",
          "data": {
            "text/plain": [
              "[<tensorflow.python.keras.layers.core.Dense at 0x7f6c405ca0f0>,\n",
              " <tensorflow.python.keras.layers.core.Dense at 0x7f6c9f061d68>,\n",
              " <tensorflow.python.keras.layers.core.Dense at 0x7f6c405ca748>,\n",
              " <tensorflow.python.keras.layers.core.Reshape at 0x7f6c52d3ddd8>]"
            ]
          },
          "metadata": {
            "tags": []
          },
          "execution_count": 16
        }
      ]
    },
    {
      "cell_type": "code",
      "metadata": {
        "id": "omEMgDS7xrPW",
        "colab_type": "code",
        "colab": {
          "base_uri": "https://localhost:8080/",
          "height": 85
        },
        "outputId": "2aa6ddd6-dc3a-4059-d9fd-2a338c04396b"
      },
      "source": [
        "GAN.layers[1].layers\n",
        "# descrimiator"
      ],
      "execution_count": 17,
      "outputs": [
        {
          "output_type": "execute_result",
          "data": {
            "text/plain": [
              "[<tensorflow.python.keras.layers.core.Flatten at 0x7f6c52d3de48>,\n",
              " <tensorflow.python.keras.layers.core.Dense at 0x7f6c528bf588>,\n",
              " <tensorflow.python.keras.layers.core.Dense at 0x7f6c528bff60>,\n",
              " <tensorflow.python.keras.layers.core.Dense at 0x7f6c52d3dc18>]"
            ]
          },
          "metadata": {
            "tags": []
          },
          "execution_count": 17
        }
      ]
    },
    {
      "cell_type": "code",
      "metadata": {
        "id": "7Q7U_3qcOybe",
        "colab_type": "code",
        "colab": {
          "base_uri": "https://localhost:8080/",
          "height": 527
        },
        "outputId": "7b08f708-6a77-434d-eea6-5639fc33c474"
      },
      "source": [
        "generator, descriminator = GAN.layers\n",
        "\n",
        "for epoch in range(epochs):\n",
        "  print(f'currently on epoch {epoch+1}')\n",
        "  i=0\n",
        "  for x_batch in dataset:\n",
        "    i=i+1\n",
        "    if i%100 == 0:\n",
        "      print(f'currently on batch {i} of {len(my_data)//batch_size}')\n",
        "    \n",
        "    # descriminator training phase\n",
        "    noise = tf.random.normal(shape=[batch_size,coding_size])\n",
        "    gen_images = generator(noise)\n",
        "    x_fake_vs_real = tf.concat([gen_images,tf.dtypes.cast(x_batch,tf.float32)],axis=0)\n",
        "    y1 = tf.constant([[0.0]]* batch_size + [[1.0]]*batch_size)\n",
        "\n",
        "    descriminator.trainable=True\n",
        "    descriminator.train_on_batch(x_fake_vs_real,y1)\n",
        "\n",
        "    # train generator\n",
        "    noise = tf.random.normal(shape=[batch_size,coding_size])\n",
        "    y2 = tf.constant([[1.0]]*batch_size)\n",
        "    descriminator.trainable=False\n",
        "    GAN.train_on_batch(noise,y2)"
      ],
      "execution_count": 30,
      "outputs": [
        {
          "output_type": "stream",
          "text": [
            "currently on epoch 1\n",
            "currently on batch 100 of 185\n",
            "currently on epoch 2\n",
            "currently on batch 100 of 185\n",
            "currently on epoch 3\n",
            "currently on batch 100 of 185\n",
            "currently on epoch 4\n",
            "currently on batch 100 of 185\n",
            "currently on epoch 5\n",
            "currently on batch 100 of 185\n",
            "currently on epoch 6\n",
            "currently on batch 100 of 185\n",
            "currently on epoch 7\n",
            "currently on batch 100 of 185\n",
            "currently on epoch 8\n",
            "currently on batch 100 of 185\n",
            "currently on epoch 9\n",
            "currently on batch 100 of 185\n",
            "currently on epoch 10\n",
            "currently on batch 100 of 185\n",
            "currently on epoch 11\n",
            "currently on batch 100 of 185\n",
            "currently on epoch 12\n",
            "currently on batch 100 of 185\n",
            "currently on epoch 13\n",
            "currently on batch 100 of 185\n",
            "currently on epoch 14\n",
            "currently on batch 100 of 185\n",
            "currently on epoch 15\n",
            "currently on batch 100 of 185\n"
          ],
          "name": "stdout"
        }
      ]
    },
    {
      "cell_type": "code",
      "metadata": {
        "id": "E0m89dffO0G0",
        "colab_type": "code",
        "colab": {
          "base_uri": "https://localhost:8080/",
          "height": 282
        },
        "outputId": "c3472027-e964-43a4-8c3d-61a25acb2041"
      },
      "source": [
        "noise = tf.random.normal(shape=[10,coding_size])\n",
        "images = generator(noise)\n",
        "plt.imshow(np.array(images)[3])"
      ],
      "execution_count": 36,
      "outputs": [
        {
          "output_type": "execute_result",
          "data": {
            "text/plain": [
              "<matplotlib.image.AxesImage at 0x7f6bde4494e0>"
            ]
          },
          "metadata": {
            "tags": []
          },
          "execution_count": 36
        },
        {
          "output_type": "display_data",
          "data": {
            "image/png": "[encoded data removed]",
            "text/plain": [
              "<Figure size 432x288 with 1 Axes>"
            ]
          },
          "metadata": {
            "tags": [],
            "needs_background": "light"
          }
        }
      ]
    },
    {
      "cell_type": "code",
      "metadata": {
        "id": "Jbr8ffPKOz6W",
        "colab_type": "code",
        "colab": {
          "base_uri": "https://localhost:8080/",
          "height": 282
        },
        "outputId": "fa5382e0-acd3-40ff-b60c-5f0e78b0a286"
      },
      "source": [
        "noise = tf.random.normal(shape=[10,coding_size])\n",
        "images = generator(noise)\n",
        "plt.imshow(np.array(images)[3])"
      ],
      "execution_count": 37,
      "outputs": [
        {
          "output_type": "execute_result",
          "data": {
            "text/plain": [
              "<matplotlib.image.AxesImage at 0x7f6bde428080>"
            ]
          },
          "metadata": {
            "tags": []
          },
          "execution_count": 37
        },
        {
          "output_type": "display_data",
          "data": {
            "image/png": "[encoded data removed]",
            "text/plain": [
              "<Figure size 432x288 with 1 Axes>"
            ]
          },
          "metadata": {
            "tags": [],
            "needs_background": "light"
          }
        }
      ]
    },
    {
      "cell_type": "code",
      "metadata": {
        "id": "d68Jiik8Oz5M",
        "colab_type": "code",
        "colab": {
          "base_uri": "https://localhost:8080/",
          "height": 282
        },
        "outputId": "a18ab608-3bfb-4f00-9a06-6dfb21ea0850"
      },
      "source": [
        "noise = tf.random.normal(shape=[10,coding_size])\n",
        "images = generator(noise)\n",
        "plt.imshow(np.array(images)[3])"
      ],
      "execution_count": 38,
      "outputs": [
        {
          "output_type": "execute_result",
          "data": {
            "text/plain": [
              "<matplotlib.image.AxesImage at 0x7f6bde379be0>"
            ]
          },
          "metadata": {
            "tags": []
          },
          "execution_count": 38
        },
        {
          "output_type": "display_data",
          "data": {
            "image/png": "[encoded data removed]",
            "text/plain": [
              "<Figure size 432x288 with 1 Axes>"
            ]
          },
          "metadata": {
            "tags": [],
            "needs_background": "light"
          }
        }
      ]
    },
    {
      "cell_type": "code",
      "metadata": {
        "id": "JMkU4-GbOz2H",
        "colab_type": "code",
        "colab": {}
      },
      "source": [
        ""
      ],
      "execution_count": 0,
      "outputs": []
    },
    {
      "cell_type": "code",
      "metadata": {
        "id": "Su1TuhH2Ozzy",
        "colab_type": "code",
        "colab": {}
      },
      "source": [
        ""
      ],
      "execution_count": 0,
      "outputs": []
    },
    {
      "cell_type": "code",
      "metadata": {
        "id": "A1Qi4B0XOzzE",
        "colab_type": "code",
        "colab": {}
      },
      "source": [
        ""
      ],
      "execution_count": 0,
      "outputs": []
    },
    {
      "cell_type": "code",
      "metadata": {
        "id": "k_8S9icsOzve",
        "colab_type": "code",
        "colab": {}
      },
      "source": [
        ""
      ],
      "execution_count": 0,
      "outputs": []
    },
    {
      "cell_type": "code",
      "metadata": {
        "id": "EFPA9shAOzsT",
        "colab_type": "code",
        "colab": {}
      },
      "source": [
        ""
      ],
      "execution_count": 0,
      "outputs": []
    },
    {
      "cell_type": "code",
      "metadata": {
        "id": "ERBltU21OzrV",
        "colab_type": "code",
        "colab": {}
      },
      "source": [
        ""
      ],
      "execution_count": 0,
      "outputs": []
    },
    {
      "cell_type": "code",
      "metadata": {
        "id": "_VWDUUX3OzqB",
        "colab_type": "code",
        "colab": {}
      },
      "source": [
        ""
      ],
      "execution_count": 0,
      "outputs": []
    },
    {
      "cell_type": "code",
      "metadata": {
        "id": "YO1DUdOcOznA",
        "colab_type": "code",
        "colab": {}
      },
      "source": [
        ""
      ],
      "execution_count": 0,
      "outputs": []
    },
    {
      "cell_type": "code",
      "metadata": {
        "id": "F1-wePu9Ozll",
        "colab_type": "code",
        "colab": {}
      },
      "source": [
        ""
      ],
      "execution_count": 0,
      "outputs": []
    },
    {
      "cell_type": "code",
      "metadata": {
        "id": "c_InnKowOzky",
        "colab_type": "code",
        "colab": {}
      },
      "source": [
        ""
      ],
      "execution_count": 0,
      "outputs": []
    },
    {
      "cell_type": "code",
      "metadata": {
        "id": "l17m_DYeOzjb",
        "colab_type": "code",
        "colab": {}
      },
      "source": [
        ""
      ],
      "execution_count": 0,
      "outputs": []
    },
    {
      "cell_type": "code",
      "metadata": {
        "id": "1O2DSN6ZOzfI",
        "colab_type": "code",
        "colab": {}
      },
      "source": [
        ""
      ],
      "execution_count": 0,
      "outputs": []
    },
    {
      "cell_type": "code",
      "metadata": {
        "id": "9f6JdV5xOzdv",
        "colab_type": "code",
        "colab": {}
      },
      "source": [
        ""
      ],
      "execution_count": 0,
      "outputs": []
    },
    {
      "cell_type": "code",
      "metadata": {
        "id": "XLueWw6COzas",
        "colab_type": "code",
        "colab": {}
      },
      "source": [
        ""
      ],
      "execution_count": 0,
      "outputs": []
    },
    {
      "cell_type": "code",
      "metadata": {
        "id": "JUvgMqqjOzYB",
        "colab_type": "code",
        "colab": {}
      },
      "source": [
        ""
      ],
      "execution_count": 0,
      "outputs": []
    }
  ]
}