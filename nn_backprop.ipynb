{
  "nbformat": 4,
  "nbformat_minor": 0,
  "metadata": {
    "colab": {
      "name": "Untitled7.ipynb",
      "provenance": [],
      "authorship_tag": "ABX9TyOTboZGo68wnqWTWGCUYc9R",
      "include_colab_link": true
    },
    "kernelspec": {
      "name": "python3",
      "display_name": "Python 3"
    }
  },
  "cells": [
    {
      "cell_type": "markdown",
      "metadata": {
        "id": "view-in-github",
        "colab_type": "text"
      },
      "source": [
        "<a href=\"https://colab.research.google.com/github/strange-hawk/ml_nn/blob/master/nn_backprop.ipynb\" target=\"_parent\"><img src=\"https://colab.research.google.com/assets/colab-badge.svg\" alt=\"Open In Colab\"/></a>"
      ]
    },
    {
      "cell_type": "code",
      "metadata": {
        "id": "RR1I2TsyoP86",
        "colab_type": "code",
        "colab": {}
      },
      "source": [
        "import numpy as np"
      ],
      "execution_count": 0,
      "outputs": []
    },
    {
      "cell_type": "code",
      "metadata": {
        "id": "sBqz9z4UoRgG",
        "colab_type": "code",
        "colab": {}
      },
      "source": [
        "def sigmoid(x):\n",
        "  return 1/(1+np.exp(-x))"
      ],
      "execution_count": 0,
      "outputs": []
    },
    {
      "cell_type": "code",
      "metadata": {
        "id": "Ev3asPSmoRdG",
        "colab_type": "code",
        "colab": {}
      },
      "source": [
        "x=np.array([0.5, 0.1, -0.2])\n",
        "target = 0.6\n",
        "learning_rate = 0.5"
      ],
      "execution_count": 0,
      "outputs": []
    },
    {
      "cell_type": "code",
      "metadata": {
        "id": "Cp0uMlFQoRb3",
        "colab_type": "code",
        "colab": {}
      },
      "source": [
        "weights_input_hidden = np.array([[0.5,-0.6],\n",
        "                                 [0.1,-0.2],\n",
        "                                 [0.1,0.7]])\n",
        "weights_hidden_output = np.array([0.1,-0.3])"
      ],
      "execution_count": 0,
      "outputs": []
    },
    {
      "cell_type": "markdown",
      "metadata": {
        "id": "fhZMh_VXpJt6",
        "colab_type": "text"
      },
      "source": [
        "forward pass"
      ]
    },
    {
      "cell_type": "code",
      "metadata": {
        "id": "8GOMWXSroRYx",
        "colab_type": "code",
        "colab": {}
      },
      "source": [
        "hidden_layer_input = np.dot(x,weights_input_hidden)\n",
        "hidden_layer_output = sigmoid(hidden_layer_input)"
      ],
      "execution_count": 0,
      "outputs": []
    },
    {
      "cell_type": "code",
      "metadata": {
        "id": "ROjyrL0joRWA",
        "colab_type": "code",
        "colab": {}
      },
      "source": [
        "output_layer_in = np.dot(hidden_layer_output,weights_hidden_output)\n",
        "output = sigmoid(output_layer_in)"
      ],
      "execution_count": 0,
      "outputs": []
    },
    {
      "cell_type": "code",
      "metadata": {
        "id": "FMKHULaMoRTI",
        "colab_type": "code",
        "colab": {
          "base_uri": "https://localhost:8080/",
          "height": 34
        },
        "outputId": "9dbfe203-0389-4bed-d68f-f2679d575c39"
      },
      "source": [
        "output"
      ],
      "execution_count": 26,
      "outputs": [
        {
          "output_type": "execute_result",
          "data": {
            "text/plain": [
              "0.48497343084992534"
            ]
          },
          "metadata": {
            "tags": []
          },
          "execution_count": 26
        }
      ]
    },
    {
      "cell_type": "markdown",
      "metadata": {
        "id": "7-J8oRawp3CT",
        "colab_type": "text"
      },
      "source": [
        "bakpropagation"
      ]
    },
    {
      "cell_type": "code",
      "metadata": {
        "id": "yi26SwaOoRON",
        "colab_type": "code",
        "colab": {
          "base_uri": "https://localhost:8080/",
          "height": 34
        },
        "outputId": "224209a3-0e9a-4417-ad84-089ceb199351"
      },
      "source": [
        "error = target-output\n",
        "error"
      ],
      "execution_count": 27,
      "outputs": [
        {
          "output_type": "execute_result",
          "data": {
            "text/plain": [
              "0.11502656915007464"
            ]
          },
          "metadata": {
            "tags": []
          },
          "execution_count": 27
        }
      ]
    },
    {
      "cell_type": "code",
      "metadata": {
        "id": "B3XQ0mhaoRLY",
        "colab_type": "code",
        "colab": {
          "base_uri": "https://localhost:8080/",
          "height": 34
        },
        "outputId": "e4d3f352-4d75-49e9-bb08-7f90cb7ef5e5"
      },
      "source": [
        "output_error_term = error*output*(1-output)\n",
        "delta_w_h_o = learning_rate*output_error_term*hidden_layer_output\n",
        "delta_w_h_o\n",
        "hidden_layer_output"
      ],
      "execution_count": 30,
      "outputs": [
        {
          "output_type": "execute_result",
          "data": {
            "text/plain": [
              "array([0.55971365, 0.38698582])"
            ]
          },
          "metadata": {
            "tags": []
          },
          "execution_count": 30
        }
      ]
    },
    {
      "cell_type": "code",
      "metadata": {
        "id": "sdbRIEPvoRHn",
        "colab_type": "code",
        "colab": {}
      },
      "source": [
        "hidden_error_term = np.dot(output_error_term,weights_hidden_output)*hidden_layer_output*(1-hidden_layer_output)"
      ],
      "execution_count": 0,
      "outputs": []
    },
    {
      "cell_type": "code",
      "metadata": {
        "id": "qW48hF5foRFA",
        "colab_type": "code",
        "colab": {
          "base_uri": "https://localhost:8080/",
          "height": 34
        },
        "outputId": "7dd6a018-9eb3-49f7-8003-fd08e8e31474"
      },
      "source": [
        "a = np.array([1,2])\n",
        "b = np.array([3, 4])\n",
        "a*b"
      ],
      "execution_count": 37,
      "outputs": [
        {
          "output_type": "execute_result",
          "data": {
            "text/plain": [
              "array([3, 8])"
            ]
          },
          "metadata": {
            "tags": []
          },
          "execution_count": 37
        }
      ]
    },
    {
      "cell_type": "code",
      "metadata": {
        "id": "0yQk6oPHoRCa",
        "colab_type": "code",
        "colab": {}
      },
      "source": [
        "delta_w_i_h = learning_rate*hidden_error_term*x[:,None]"
      ],
      "execution_count": 0,
      "outputs": []
    },
    {
      "cell_type": "code",
      "metadata": {
        "id": "VSgx4hCGoRBf",
        "colab_type": "code",
        "colab": {
          "base_uri": "https://localhost:8080/",
          "height": 119
        },
        "outputId": "76803fd7-7d26-480b-ad5a-71701c76a342"
      },
      "source": [
        "print('Change in weights for hidden layer to output layer:')\n",
        "print(delta_w_h_o)\n",
        "print('Change in weights for input layer to hidden layer:')\n",
        "print(delta_w_i_h)"
      ],
      "execution_count": 41,
      "outputs": [
        {
          "output_type": "stream",
          "text": [
            "Change in weights for hidden layer to output layer:\n",
            "[0.00804047 0.00555918]\n",
            "Change in weights for input layer to hidden layer:\n",
            "[[ 1.77005547e-04 -5.11178506e-04]\n",
            " [ 3.54011093e-05 -1.02235701e-04]\n",
            " [-7.08022187e-05  2.04471402e-04]]\n"
          ],
          "name": "stdout"
        }
      ]
    },
    {
      "cell_type": "code",
      "metadata": {
        "id": "x07oSfxsoQxX",
        "colab_type": "code",
        "colab": {}
      },
      "source": [
        ""
      ],
      "execution_count": 0,
      "outputs": []
    },
    {
      "cell_type": "code",
      "metadata": {
        "id": "pm0-F93zoQuf",
        "colab_type": "code",
        "colab": {}
      },
      "source": [
        ""
      ],
      "execution_count": 0,
      "outputs": []
    },
    {
      "cell_type": "code",
      "metadata": {
        "id": "yWZldoRqoQrw",
        "colab_type": "code",
        "colab": {}
      },
      "source": [
        ""
      ],
      "execution_count": 0,
      "outputs": []
    }
  ]
}