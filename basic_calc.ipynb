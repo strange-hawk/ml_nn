{
  "nbformat": 4,
  "nbformat_minor": 0,
  "metadata": {
    "colab": {
      "name": "Copy of Untitled7.ipynb",
      "provenance": [],
      "authorship_tag": "ABX9TyPONCDAtMTKNVaWfKQC3dMB"
    },
    "kernelspec": {
      "name": "python3",
      "display_name": "Python 3"
    }
  },
  "cells": [
    {
      "cell_type": "code",
      "metadata": {
        "id": "5P5ulF3iZ-iE",
        "colab_type": "code",
        "colab": {}
      },
      "source": [
        "import numpy as np"
      ],
      "execution_count": 0,
      "outputs": []
    },
    {
      "cell_type": "code",
      "metadata": {
        "id": "6KJt-TuZaJa-",
        "colab_type": "code",
        "colab": {}
      },
      "source": [
        "def sigmoid(x):\n",
        "  return 1/(1+np.exp(-x))"
      ],
      "execution_count": 0,
      "outputs": []
    },
    {
      "cell_type": "code",
      "metadata": {
        "id": "adgqbJAMaPc8",
        "colab_type": "code",
        "colab": {}
      },
      "source": [
        "N_input = 4\n",
        "N_hidden = 3\n",
        "N_output = 2"
      ],
      "execution_count": 0,
      "outputs": []
    },
    {
      "cell_type": "code",
      "metadata": {
        "id": "NsYj6FJAaPaC",
        "colab_type": "code",
        "outputId": "472684f7-b4f8-4b18-e094-f08b23558cf1",
        "colab": {
          "base_uri": "https://localhost:8080/",
          "height": 34
        }
      },
      "source": [
        "X = np.random.randn(4)\n",
        "X"
      ],
      "execution_count": 0,
      "outputs": [
        {
          "output_type": "execute_result",
          "data": {
            "text/plain": [
              "array([-0.35143057,  1.27013321,  0.38044872,  0.91947957])"
            ]
          },
          "metadata": {
            "tags": []
          },
          "execution_count": 7
        }
      ]
    },
    {
      "cell_type": "code",
      "metadata": {
        "id": "IGT8MdVuaPYR",
        "colab_type": "code",
        "colab": {}
      },
      "source": [
        "weights_input_to_hidden = np.random.normal(0,scale=0.1, size = (N_input , N_hidden))\n",
        "weights_hidden_to_output = np.random.normal(0,scale=0.1 , size = (N_hidden,N_output))"
      ],
      "execution_count": 0,
      "outputs": []
    },
    {
      "cell_type": "code",
      "metadata": {
        "id": "XohLAPgmaPTx",
        "colab_type": "code",
        "colab": {}
      },
      "source": [
        "hidden_layer_in = np.dot(X,weights_input_to_hidden)"
      ],
      "execution_count": 0,
      "outputs": []
    },
    {
      "cell_type": "code",
      "metadata": {
        "id": "bKkK_9tQaPQU",
        "colab_type": "code",
        "outputId": "7ca07970-7b56-4c4e-bc95-dcd958ebaa00",
        "colab": {
          "base_uri": "https://localhost:8080/",
          "height": 34
        }
      },
      "source": [
        "hidden_layer_in"
      ],
      "execution_count": 0,
      "outputs": [
        {
          "output_type": "execute_result",
          "data": {
            "text/plain": [
              "array([-0.32084713, -0.05706925,  0.16985105])"
            ]
          },
          "metadata": {
            "tags": []
          },
          "execution_count": 11
        }
      ]
    },
    {
      "cell_type": "code",
      "metadata": {
        "id": "J0FaWNRtaPK6",
        "colab_type": "code",
        "outputId": "b802ea75-2d7f-4d1b-c50e-65ad2b9f5ffd",
        "colab": {
          "base_uri": "https://localhost:8080/",
          "height": 34
        }
      },
      "source": [
        "hidden_layer_out = sigmoid(hidden_layer_in)\n",
        "hidden_layer_out"
      ],
      "execution_count": 0,
      "outputs": [
        {
          "output_type": "execute_result",
          "data": {
            "text/plain": [
              "array([0.42046931, 0.48573656, 0.54236097])"
            ]
          },
          "metadata": {
            "tags": []
          },
          "execution_count": 13
        }
      ]
    },
    {
      "cell_type": "code",
      "metadata": {
        "id": "AWe1FCYSaPIp",
        "colab_type": "code",
        "colab": {}
      },
      "source": [
        "output_layer_in = np.dot(hidden_layer_in,weights_hidden_to_output)\n",
        "output_layer_out = sigmoid(output_layer_in)"
      ],
      "execution_count": 0,
      "outputs": []
    },
    {
      "cell_type": "code",
      "metadata": {
        "id": "9qJtT0tjaO_H",
        "colab_type": "code",
        "outputId": "52a63684-f5bf-4979-9021-dc471839f487",
        "colab": {
          "base_uri": "https://localhost:8080/",
          "height": 85
        }
      },
      "source": [
        "print('Hidden-layer Output:')\n",
        "print(hidden_layer_out)\n",
        "print('Output-layer Output:')\n",
        "print(output_layer_out)"
      ],
      "execution_count": 0,
      "outputs": [
        {
          "output_type": "stream",
          "text": [
            "Hidden-layer Output:\n",
            "[0.42046931 0.48573656 0.54236097]\n",
            "Output-layer Output:\n",
            "[0.51204649 0.49584701]\n"
          ],
          "name": "stdout"
        }
      ]
    },
    {
      "cell_type": "code",
      "metadata": {
        "id": "oApcApIvaO28",
        "colab_type": "code",
        "colab": {}
      },
      "source": [
        ""
      ],
      "execution_count": 0,
      "outputs": []
    },
    {
      "cell_type": "code",
      "metadata": {
        "id": "344dk7jxaN7U",
        "colab_type": "code",
        "colab": {}
      },
      "source": [
        ""
      ],
      "execution_count": 0,
      "outputs": []
    }
  ]
}