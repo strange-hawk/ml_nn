{
  "nbformat": 4,
  "nbformat_minor": 0,
  "metadata": {
    "colab": {
      "name": "Untitled12.ipynb",
      "provenance": [],
      "authorship_tag": "ABX9TyPQXrR+Ee2mQ0uyz6J5tUyS",
      "include_colab_link": true
    },
    "kernelspec": {
      "name": "python3",
      "display_name": "Python 3"
    },
    "accelerator": "TPU"
  },
  "cells": [
    {
      "cell_type": "markdown",
      "metadata": {
        "id": "view-in-github",
        "colab_type": "text"
      },
      "source": [
        "<a href=\"https://colab.research.google.com/github/strange-hawk/ml_nn/blob/master/normal_with_tf.ipynb\" target=\"_parent\"><img src=\"https://colab.research.google.com/assets/colab-badge.svg\" alt=\"Open In Colab\"/></a>"
      ]
    },
    {
      "cell_type": "code",
      "metadata": {
        "id": "UNH4SZvUYZ5R",
        "colab_type": "code",
        "colab": {
          "base_uri": "https://localhost:8080/",
          "height": 151
        },
        "outputId": "3578124b-8219-4ebb-a927-ec1c059558c5"
      },
      "source": [
        "import tensorflow as tf\n",
        "tf.reset_default_graph()\n",
        "a=tf.add(1,2,name='addition_1')\n",
        "b = tf.multiply(a,3,name='multiply_1')\n",
        "c=tf.add(4,5,name='addition_2')\n",
        "\n",
        "d = tf.multiply(c,6,name='multiply_2')\n",
        "e=tf.multiply(4,5,name='multiply_3')\n",
        "f=tf.div(c,6,name='division_1')\n",
        "\n",
        "g=tf.add(b,d,name='addition_3')\n",
        "h=tf.multiply(g,f,name='multiply_4')\n",
        "\n",
        "with tf.Session() as sess:\n",
        "  writer = tf.summary.FileWriter(\"./logs\", sess.graph)\n",
        "  print(sess.run(h))\n",
        "  writer.close()"
      ],
      "execution_count": 1,
      "outputs": [
        {
          "output_type": "display_data",
          "data": {
            "text/html": [
              "<p style=\"color: red;\">\n",
              "The default version of TensorFlow in Colab will soon switch to TensorFlow 2.x.<br>\n",
              "We recommend you <a href=\"https://www.tensorflow.org/guide/migrate\" target=\"_blank\">upgrade</a> now \n",
              "or ensure your notebook will continue to use TensorFlow 1.x via the <code>%tensorflow_version 1.x</code> magic:\n",
              "<a href=\"https://colab.research.google.com/notebooks/tensorflow_version.ipynb\" target=\"_blank\">more info</a>.</p>\n"
            ],
            "text/plain": [
              "<IPython.core.display.HTML object>"
            ]
          },
          "metadata": {
            "tags": []
          }
        },
        {
          "output_type": "stream",
          "text": [
            "WARNING:tensorflow:From <ipython-input-1-71cab6bd06d3>:9: div (from tensorflow.python.ops.math_ops) is deprecated and will be removed in a future version.\n",
            "Instructions for updating:\n",
            "Deprecated in favor of operator or tf.math.divide.\n",
            "63\n"
          ],
          "name": "stdout"
        }
      ]
    },
    {
      "cell_type": "code",
      "metadata": {
        "id": "CMOsht9a0ICp",
        "colab_type": "code",
        "colab": {
          "base_uri": "https://localhost:8080/",
          "height": 105
        },
        "outputId": "9a7b6209-960d-4369-de7d-8717e4708b06"
      },
      "source": [
        "import tensorflow as tf\n",
        "tf.reset_default_graph()\n",
        "with tf.name_scope('My_Graph'):\n",
        "  with tf.name_scope('scope_1'):\n",
        "    a=tf.add(1,2,name='addition_1')\n",
        "    b = tf.multiply(a,3,name='multiply_1')\n",
        "  with tf.name_scope('scope_2'):\n",
        "    c=tf.add(4,5,name='addition_2')\n",
        "    d = tf.multiply(c,6,name='multiply_2')\n",
        "  with tf.name_scope('scope_3'):\n",
        "    e=tf.multiply(4,5,name='multiply_3')\n",
        "    f=tf.div(c,6,name='division_1')\n",
        "  with tf.name_scope('scope_4'):\n",
        "    g=tf.add(b,d,name='addition_3')\n",
        "    h=tf.multiply(g,f,name='multiply_4')\n",
        "\n",
        "with tf.Session() as sess:\n",
        "  writer = tf.summary.FileWriter(\"./logs\", sess.graph)\n",
        "  print(sess.run(h))\n",
        "  writer.close()"
      ],
      "execution_count": 2,
      "outputs": [
        {
          "output_type": "stream",
          "text": [
            "WARNING:tensorflow:From <ipython-input-2-f0bb220d57e1>:12: div (from tensorflow.python.ops.math_ops) is deprecated and will be removed in a future version.\n",
            "Instructions for updating:\n",
            "Deprecated in favor of operator or tf.math.divide.\n",
            "63\n"
          ],
          "name": "stdout"
        }
      ]
    },
    {
      "cell_type": "code",
      "metadata": {
        "id": "ZnDg2f7rYQ7f",
        "colab_type": "code",
        "colab": {
          "base_uri": "https://localhost:8080/",
          "height": 80
        },
        "outputId": "dd4a13b2-3e9c-4f2e-cbdb-eb1338284e34"
      },
      "source": [
        "import tensorflow as tf\n",
        "tf.reset_default_graph()\n",
        "s_scalar = tf.get_variable(name='s_scalar',shape=[],initializer=tf.truncated_normal_initializer(mean=0,stddev=1))\n",
        "first_summary = tf.summary.scalar(name='first summary',tensor=s_scalar)\n",
        "init = tf.global_variables_initializer()\n",
        "with tf.Session() as sess:\n",
        "  writer=tf.summary.FileWriter('./logs',sess.graph)\n",
        "  for i in range(10000):\n",
        "    sess.run(init)\n",
        "    summary = sess.run(first_summary)\n",
        "\n",
        "    writer.add_summary(summary,i)"
      ],
      "execution_count": 1,
      "outputs": [
        {
          "output_type": "display_data",
          "data": {
            "text/html": [
              "<p style=\"color: red;\">\n",
              "The default version of TensorFlow in Colab will soon switch to TensorFlow 2.x.<br>\n",
              "We recommend you <a href=\"https://www.tensorflow.org/guide/migrate\" target=\"_blank\">upgrade</a> now \n",
              "or ensure your notebook will continue to use TensorFlow 1.x via the <code>%tensorflow_version 1.x</code> magic:\n",
              "<a href=\"https://colab.research.google.com/notebooks/tensorflow_version.ipynb\" target=\"_blank\">more info</a>.</p>\n"
            ],
            "text/plain": [
              "<IPython.core.display.HTML object>"
            ]
          },
          "metadata": {
            "tags": []
          }
        },
        {
          "output_type": "stream",
          "text": [
            "INFO:tensorflow:Summary name first summary is illegal; using first_summary instead.\n"
          ],
          "name": "stdout"
        }
      ]
    },
    {
      "cell_type": "code",
      "metadata": {
        "id": "quo4zoCvYQ36",
        "colab_type": "code",
        "colab": {}
      },
      "source": [
        "import tensorflow as tf\n",
        "# tf.summary.histogram\n",
        "tf.reset_default_graph()\n",
        "# s_scalar = tf.get_variable(name='s_scalar',shape=[],initializer=tf.truncated_normal_initializer(mean=0,stddev=1))\n",
        "y_matrix = tf.get_variable(name='y_matrix',shape=[40,50],initializer=tf.truncated_normal_initializer(mean=0,stddev=1))\n",
        "\n",
        "# A scalar summary for scalar tensor\n",
        "# first_summary = tf.summary.scalar(name='first summary',tensor=s_scalar)\n",
        "\n",
        "# A histogram summary for non-scalar tensor 2D or 3D tensor\n",
        "histogram_summary = tf.summary.histogram('histogram_summary',y_matrix)\n",
        "\n",
        "init = tf.global_variables_initializer()\n",
        "with tf.Session() as sess:\n",
        "  writer=tf.summary.FileWriter('./logs',sess.graph)\n",
        "  for i in range(60000):\n",
        "    sess.run(init)\n",
        "    summary2 = sess.run(histogram_summary)\n",
        "    # writer.add_summary(summary1,i)\n",
        "    writer.add_summary(summary2,i)"
      ],
      "execution_count": 0,
      "outputs": []
    },
    {
      "cell_type": "code",
      "metadata": {
        "id": "STF3bmOcYQyu",
        "colab_type": "code",
        "colab": {}
      },
      "source": [
        ""
      ],
      "execution_count": 0,
      "outputs": []
    },
    {
      "cell_type": "code",
      "metadata": {
        "id": "Be9MEyH1YQw5",
        "colab_type": "code",
        "colab": {}
      },
      "source": [
        ""
      ],
      "execution_count": 0,
      "outputs": []
    },
    {
      "cell_type": "code",
      "metadata": {
        "id": "GHLJqLV7YQve",
        "colab_type": "code",
        "colab": {}
      },
      "source": [
        ""
      ],
      "execution_count": 0,
      "outputs": []
    },
    {
      "cell_type": "code",
      "metadata": {
        "id": "5aV8ygIfYQtc",
        "colab_type": "code",
        "colab": {}
      },
      "source": [
        ""
      ],
      "execution_count": 0,
      "outputs": []
    },
    {
      "cell_type": "code",
      "metadata": {
        "id": "RoHr1yMGYQoY",
        "colab_type": "code",
        "colab": {}
      },
      "source": [
        ""
      ],
      "execution_count": 0,
      "outputs": []
    }
  ]
}